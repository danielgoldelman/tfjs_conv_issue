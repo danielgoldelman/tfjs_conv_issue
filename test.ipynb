{
 "cells": [
  {
   "cell_type": "code",
   "execution_count": 1,
   "metadata": {},
   "outputs": [
    {
     "name": "stdout",
     "output_type": "stream",
     "text": [
      "Requirement already satisfied: scikit-learn in ./.venv/lib/python3.9/site-packages (1.3.1)\n",
      "Requirement already satisfied: numpy<2.0,>=1.17.3 in ./.venv/lib/python3.9/site-packages (from scikit-learn) (1.26.1)\n",
      "Requirement already satisfied: scipy>=1.5.0 in ./.venv/lib/python3.9/site-packages (from scikit-learn) (1.11.3)\n",
      "Requirement already satisfied: joblib>=1.1.1 in ./.venv/lib/python3.9/site-packages (from scikit-learn) (1.3.2)\n",
      "Requirement already satisfied: threadpoolctl>=2.0.0 in ./.venv/lib/python3.9/site-packages (from scikit-learn) (3.2.0)\n",
      "Note: you may need to restart the kernel to use updated packages.\n",
      "Requirement already satisfied: scipy in ./.venv/lib/python3.9/site-packages (1.11.3)\n",
      "Requirement already satisfied: numpy<1.28.0,>=1.21.6 in ./.venv/lib/python3.9/site-packages (from scipy) (1.26.1)\n",
      "Note: you may need to restart the kernel to use updated packages.\n",
      "Requirement already satisfied: pandas in ./.venv/lib/python3.9/site-packages (2.1.1)\n",
      "Requirement already satisfied: numpy>=1.22.4 in ./.venv/lib/python3.9/site-packages (from pandas) (1.26.1)\n",
      "Requirement already satisfied: python-dateutil>=2.8.2 in ./.venv/lib/python3.9/site-packages (from pandas) (2.8.2)\n",
      "Requirement already satisfied: pytz>=2020.1 in ./.venv/lib/python3.9/site-packages (from pandas) (2023.3.post1)\n",
      "Requirement already satisfied: tzdata>=2022.1 in ./.venv/lib/python3.9/site-packages (from pandas) (2023.3)\n",
      "Requirement already satisfied: six>=1.5 in ./.venv/lib/python3.9/site-packages (from python-dateutil>=2.8.2->pandas) (1.16.0)\n",
      "Note: you may need to restart the kernel to use updated packages.\n",
      "Requirement already satisfied: transformers in ./.venv/lib/python3.9/site-packages (4.34.1)\n",
      "Requirement already satisfied: filelock in ./.venv/lib/python3.9/site-packages (from transformers) (3.12.4)\n",
      "Requirement already satisfied: huggingface-hub<1.0,>=0.16.4 in ./.venv/lib/python3.9/site-packages (from transformers) (0.17.3)\n",
      "Requirement already satisfied: numpy>=1.17 in ./.venv/lib/python3.9/site-packages (from transformers) (1.26.1)\n",
      "Requirement already satisfied: packaging>=20.0 in ./.venv/lib/python3.9/site-packages (from transformers) (23.2)\n",
      "Requirement already satisfied: pyyaml>=5.1 in ./.venv/lib/python3.9/site-packages (from transformers) (6.0.1)\n",
      "Requirement already satisfied: regex!=2019.12.17 in ./.venv/lib/python3.9/site-packages (from transformers) (2023.10.3)\n",
      "Requirement already satisfied: requests in ./.venv/lib/python3.9/site-packages (from transformers) (2.31.0)\n",
      "Requirement already satisfied: tokenizers<0.15,>=0.14 in ./.venv/lib/python3.9/site-packages (from transformers) (0.14.1)\n",
      "Requirement already satisfied: safetensors>=0.3.1 in ./.venv/lib/python3.9/site-packages (from transformers) (0.4.0)\n",
      "Requirement already satisfied: tqdm>=4.27 in ./.venv/lib/python3.9/site-packages (from transformers) (4.66.1)\n",
      "Requirement already satisfied: fsspec in ./.venv/lib/python3.9/site-packages (from huggingface-hub<1.0,>=0.16.4->transformers) (2023.10.0)\n",
      "Requirement already satisfied: typing-extensions>=3.7.4.3 in ./.venv/lib/python3.9/site-packages (from huggingface-hub<1.0,>=0.16.4->transformers) (4.8.0)\n",
      "Requirement already satisfied: charset-normalizer<4,>=2 in ./.venv/lib/python3.9/site-packages (from requests->transformers) (3.3.0)\n",
      "Requirement already satisfied: idna<4,>=2.5 in ./.venv/lib/python3.9/site-packages (from requests->transformers) (3.4)\n",
      "Requirement already satisfied: urllib3<3,>=1.21.1 in ./.venv/lib/python3.9/site-packages (from requests->transformers) (2.0.7)\n",
      "Requirement already satisfied: certifi>=2017.4.17 in ./.venv/lib/python3.9/site-packages (from requests->transformers) (2023.7.22)\n",
      "Note: you may need to restart the kernel to use updated packages.\n",
      "Requirement already satisfied: tensorflow in ./.venv/lib/python3.9/site-packages (2.14.0)\n",
      "Requirement already satisfied: tensorflow-macos==2.14.0 in ./.venv/lib/python3.9/site-packages (from tensorflow) (2.14.0)\n",
      "Requirement already satisfied: absl-py>=1.0.0 in ./.venv/lib/python3.9/site-packages (from tensorflow-macos==2.14.0->tensorflow) (2.0.0)\n",
      "Requirement already satisfied: astunparse>=1.6.0 in ./.venv/lib/python3.9/site-packages (from tensorflow-macos==2.14.0->tensorflow) (1.6.3)\n",
      "Requirement already satisfied: flatbuffers>=23.5.26 in ./.venv/lib/python3.9/site-packages (from tensorflow-macos==2.14.0->tensorflow) (23.5.26)\n",
      "Requirement already satisfied: gast!=0.5.0,!=0.5.1,!=0.5.2,>=0.2.1 in ./.venv/lib/python3.9/site-packages (from tensorflow-macos==2.14.0->tensorflow) (0.5.4)\n",
      "Requirement already satisfied: google-pasta>=0.1.1 in ./.venv/lib/python3.9/site-packages (from tensorflow-macos==2.14.0->tensorflow) (0.2.0)\n",
      "Requirement already satisfied: h5py>=2.9.0 in ./.venv/lib/python3.9/site-packages (from tensorflow-macos==2.14.0->tensorflow) (3.10.0)\n",
      "Requirement already satisfied: libclang>=13.0.0 in ./.venv/lib/python3.9/site-packages (from tensorflow-macos==2.14.0->tensorflow) (16.0.6)\n",
      "Requirement already satisfied: ml-dtypes==0.2.0 in ./.venv/lib/python3.9/site-packages (from tensorflow-macos==2.14.0->tensorflow) (0.2.0)\n",
      "Requirement already satisfied: numpy>=1.23.5 in ./.venv/lib/python3.9/site-packages (from tensorflow-macos==2.14.0->tensorflow) (1.26.1)\n",
      "Requirement already satisfied: opt-einsum>=2.3.2 in ./.venv/lib/python3.9/site-packages (from tensorflow-macos==2.14.0->tensorflow) (3.3.0)\n",
      "Requirement already satisfied: packaging in ./.venv/lib/python3.9/site-packages (from tensorflow-macos==2.14.0->tensorflow) (23.2)\n",
      "Requirement already satisfied: protobuf!=4.21.0,!=4.21.1,!=4.21.2,!=4.21.3,!=4.21.4,!=4.21.5,<5.0.0dev,>=3.20.3 in ./.venv/lib/python3.9/site-packages (from tensorflow-macos==2.14.0->tensorflow) (4.24.4)\n",
      "Requirement already satisfied: setuptools in ./.venv/lib/python3.9/site-packages (from tensorflow-macos==2.14.0->tensorflow) (58.0.4)\n",
      "Requirement already satisfied: six>=1.12.0 in ./.venv/lib/python3.9/site-packages (from tensorflow-macos==2.14.0->tensorflow) (1.16.0)\n",
      "Requirement already satisfied: termcolor>=1.1.0 in ./.venv/lib/python3.9/site-packages (from tensorflow-macos==2.14.0->tensorflow) (2.3.0)\n",
      "Requirement already satisfied: typing-extensions>=3.6.6 in ./.venv/lib/python3.9/site-packages (from tensorflow-macos==2.14.0->tensorflow) (4.8.0)\n",
      "Requirement already satisfied: wrapt<1.15,>=1.11.0 in ./.venv/lib/python3.9/site-packages (from tensorflow-macos==2.14.0->tensorflow) (1.14.1)\n",
      "Requirement already satisfied: tensorflow-io-gcs-filesystem>=0.23.1 in ./.venv/lib/python3.9/site-packages (from tensorflow-macos==2.14.0->tensorflow) (0.34.0)\n",
      "Requirement already satisfied: grpcio<2.0,>=1.24.3 in ./.venv/lib/python3.9/site-packages (from tensorflow-macos==2.14.0->tensorflow) (1.59.0)\n",
      "Requirement already satisfied: tensorboard<2.15,>=2.14 in ./.venv/lib/python3.9/site-packages (from tensorflow-macos==2.14.0->tensorflow) (2.14.1)\n",
      "Requirement already satisfied: tensorflow-estimator<2.15,>=2.14.0 in ./.venv/lib/python3.9/site-packages (from tensorflow-macos==2.14.0->tensorflow) (2.14.0)\n",
      "Requirement already satisfied: keras<2.15,>=2.14.0 in ./.venv/lib/python3.9/site-packages (from tensorflow-macos==2.14.0->tensorflow) (2.14.0)\n",
      "Requirement already satisfied: wheel<1.0,>=0.23.0 in ./.venv/lib/python3.9/site-packages (from astunparse>=1.6.0->tensorflow-macos==2.14.0->tensorflow) (0.41.2)\n",
      "Requirement already satisfied: google-auth<3,>=1.6.3 in ./.venv/lib/python3.9/site-packages (from tensorboard<2.15,>=2.14->tensorflow-macos==2.14.0->tensorflow) (2.23.3)\n",
      "Requirement already satisfied: google-auth-oauthlib<1.1,>=0.5 in ./.venv/lib/python3.9/site-packages (from tensorboard<2.15,>=2.14->tensorflow-macos==2.14.0->tensorflow) (1.0.0)\n",
      "Requirement already satisfied: markdown>=2.6.8 in ./.venv/lib/python3.9/site-packages (from tensorboard<2.15,>=2.14->tensorflow-macos==2.14.0->tensorflow) (3.5)\n",
      "Requirement already satisfied: requests<3,>=2.21.0 in ./.venv/lib/python3.9/site-packages (from tensorboard<2.15,>=2.14->tensorflow-macos==2.14.0->tensorflow) (2.31.0)\n",
      "Requirement already satisfied: tensorboard-data-server<0.8.0,>=0.7.0 in ./.venv/lib/python3.9/site-packages (from tensorboard<2.15,>=2.14->tensorflow-macos==2.14.0->tensorflow) (0.7.1)\n",
      "Requirement already satisfied: werkzeug>=1.0.1 in ./.venv/lib/python3.9/site-packages (from tensorboard<2.15,>=2.14->tensorflow-macos==2.14.0->tensorflow) (3.0.0)\n",
      "Requirement already satisfied: cachetools<6.0,>=2.0.0 in ./.venv/lib/python3.9/site-packages (from google-auth<3,>=1.6.3->tensorboard<2.15,>=2.14->tensorflow-macos==2.14.0->tensorflow) (5.3.1)\n",
      "Requirement already satisfied: pyasn1-modules>=0.2.1 in ./.venv/lib/python3.9/site-packages (from google-auth<3,>=1.6.3->tensorboard<2.15,>=2.14->tensorflow-macos==2.14.0->tensorflow) (0.3.0)\n",
      "Requirement already satisfied: rsa<5,>=3.1.4 in ./.venv/lib/python3.9/site-packages (from google-auth<3,>=1.6.3->tensorboard<2.15,>=2.14->tensorflow-macos==2.14.0->tensorflow) (4.9)\n",
      "Requirement already satisfied: requests-oauthlib>=0.7.0 in ./.venv/lib/python3.9/site-packages (from google-auth-oauthlib<1.1,>=0.5->tensorboard<2.15,>=2.14->tensorflow-macos==2.14.0->tensorflow) (1.3.1)\n",
      "Requirement already satisfied: importlib-metadata>=4.4 in ./.venv/lib/python3.9/site-packages (from markdown>=2.6.8->tensorboard<2.15,>=2.14->tensorflow-macos==2.14.0->tensorflow) (6.8.0)\n",
      "Requirement already satisfied: charset-normalizer<4,>=2 in ./.venv/lib/python3.9/site-packages (from requests<3,>=2.21.0->tensorboard<2.15,>=2.14->tensorflow-macos==2.14.0->tensorflow) (3.3.0)\n",
      "Requirement already satisfied: idna<4,>=2.5 in ./.venv/lib/python3.9/site-packages (from requests<3,>=2.21.0->tensorboard<2.15,>=2.14->tensorflow-macos==2.14.0->tensorflow) (3.4)\n",
      "Requirement already satisfied: urllib3<3,>=1.21.1 in ./.venv/lib/python3.9/site-packages (from requests<3,>=2.21.0->tensorboard<2.15,>=2.14->tensorflow-macos==2.14.0->tensorflow) (2.0.7)\n",
      "Requirement already satisfied: certifi>=2017.4.17 in ./.venv/lib/python3.9/site-packages (from requests<3,>=2.21.0->tensorboard<2.15,>=2.14->tensorflow-macos==2.14.0->tensorflow) (2023.7.22)\n",
      "Requirement already satisfied: MarkupSafe>=2.1.1 in ./.venv/lib/python3.9/site-packages (from werkzeug>=1.0.1->tensorboard<2.15,>=2.14->tensorflow-macos==2.14.0->tensorflow) (2.1.3)\n",
      "Requirement already satisfied: zipp>=0.5 in ./.venv/lib/python3.9/site-packages (from importlib-metadata>=4.4->markdown>=2.6.8->tensorboard<2.15,>=2.14->tensorflow-macos==2.14.0->tensorflow) (3.17.0)\n",
      "Requirement already satisfied: pyasn1<0.6.0,>=0.4.6 in ./.venv/lib/python3.9/site-packages (from pyasn1-modules>=0.2.1->google-auth<3,>=1.6.3->tensorboard<2.15,>=2.14->tensorflow-macos==2.14.0->tensorflow) (0.5.0)\n",
      "Requirement already satisfied: oauthlib>=3.0.0 in ./.venv/lib/python3.9/site-packages (from requests-oauthlib>=0.7.0->google-auth-oauthlib<1.1,>=0.5->tensorboard<2.15,>=2.14->tensorflow-macos==2.14.0->tensorflow) (3.2.2)\n",
      "Note: you may need to restart the kernel to use updated packages.\n",
      "Requirement already satisfied: torch in ./.venv/lib/python3.9/site-packages (2.1.0)\n",
      "Requirement already satisfied: filelock in ./.venv/lib/python3.9/site-packages (from torch) (3.12.4)\n",
      "Requirement already satisfied: typing-extensions in ./.venv/lib/python3.9/site-packages (from torch) (4.8.0)\n",
      "Requirement already satisfied: sympy in ./.venv/lib/python3.9/site-packages (from torch) (1.12)\n",
      "Requirement already satisfied: networkx in ./.venv/lib/python3.9/site-packages (from torch) (3.2)\n",
      "Requirement already satisfied: jinja2 in ./.venv/lib/python3.9/site-packages (from torch) (3.1.2)\n",
      "Requirement already satisfied: fsspec in ./.venv/lib/python3.9/site-packages (from torch) (2023.10.0)\n",
      "Requirement already satisfied: MarkupSafe>=2.0 in ./.venv/lib/python3.9/site-packages (from jinja2->torch) (2.1.3)\n",
      "Requirement already satisfied: mpmath>=0.19 in ./.venv/lib/python3.9/site-packages (from sympy->torch) (1.3.0)\n",
      "Note: you may need to restart the kernel to use updated packages.\n",
      "Requirement already satisfied: tqdm in ./.venv/lib/python3.9/site-packages (4.66.1)\n",
      "Note: you may need to restart the kernel to use updated packages.\n",
      "Collecting tensorflowjs[wizard]\n",
      "  Using cached tensorflowjs-4.12.0-py3-none-any.whl.metadata (3.2 kB)\n",
      "Collecting flax>=0.7.2 (from tensorflowjs[wizard])\n",
      "  Using cached flax-0.7.4-py3-none-any.whl.metadata (10 kB)\n",
      "Collecting importlib_resources>=5.9.0 (from tensorflowjs[wizard])\n",
      "  Using cached importlib_resources-6.1.0-py3-none-any.whl.metadata (4.1 kB)\n",
      "Collecting jax>=0.4.13 (from tensorflowjs[wizard])\n",
      "  Using cached jax-0.4.19-py3-none-any.whl.metadata (23 kB)\n",
      "Collecting jaxlib>=0.4.13 (from tensorflowjs[wizard])\n",
      "  Using cached jaxlib-0.4.19-cp39-cp39-macosx_11_0_arm64.whl.metadata (2.1 kB)\n",
      "Requirement already satisfied: tensorflow<3,>=2.13.0 in ./.venv/lib/python3.9/site-packages (from tensorflowjs[wizard]) (2.14.0)\n",
      "Collecting tensorflow-decision-forests>=1.5.0 (from tensorflowjs[wizard])\n",
      "  Using cached tensorflow_decision_forests-1.6.0-cp39-cp39-macosx_12_0_arm64.whl.metadata (6.0 kB)\n",
      "Requirement already satisfied: six<2,>=1.16.0 in ./.venv/lib/python3.9/site-packages (from tensorflowjs[wizard]) (1.16.0)\n",
      "Collecting tensorflow-hub>=0.14.0 (from tensorflowjs[wizard])\n",
      "  Using cached tensorflow_hub-0.15.0-py2.py3-none-any.whl.metadata (1.3 kB)\n",
      "Requirement already satisfied: packaging~=23.1 in ./.venv/lib/python3.9/site-packages (from tensorflowjs[wizard]) (23.2)\n",
      "Collecting PyInquirer==1.0.3 (from tensorflowjs[wizard])\n",
      "  Using cached PyInquirer-1.0.3-py3-none-any.whl\n",
      "Collecting prompt-toolkit==1.0.14 (from PyInquirer==1.0.3->tensorflowjs[wizard])\n",
      "  Using cached prompt_toolkit-1.0.14-py3-none-any.whl (248 kB)\n",
      "Requirement already satisfied: Pygments>=2.2.0 in ./.venv/lib/python3.9/site-packages (from PyInquirer==1.0.3->tensorflowjs[wizard]) (2.16.1)\n",
      "Requirement already satisfied: regex>=2016.11.21 in ./.venv/lib/python3.9/site-packages (from PyInquirer==1.0.3->tensorflowjs[wizard]) (2023.10.3)\n",
      "Requirement already satisfied: wcwidth in ./.venv/lib/python3.9/site-packages (from prompt-toolkit==1.0.14->PyInquirer==1.0.3->tensorflowjs[wizard]) (0.2.8)\n",
      "Requirement already satisfied: numpy>=1.12 in ./.venv/lib/python3.9/site-packages (from flax>=0.7.2->tensorflowjs[wizard]) (1.26.1)\n",
      "Collecting msgpack (from flax>=0.7.2->tensorflowjs[wizard])\n",
      "  Using cached msgpack-1.0.7-cp39-cp39-macosx_11_0_arm64.whl.metadata (9.1 kB)\n",
      "Collecting optax (from flax>=0.7.2->tensorflowjs[wizard])\n",
      "  Using cached optax-0.1.7-py3-none-any.whl.metadata (13 kB)\n",
      "Collecting orbax-checkpoint (from flax>=0.7.2->tensorflowjs[wizard])\n",
      "  Using cached orbax_checkpoint-0.4.1-py3-none-any.whl.metadata (1.7 kB)\n",
      "Collecting tensorstore (from flax>=0.7.2->tensorflowjs[wizard])\n",
      "  Using cached tensorstore-0.1.46-cp39-cp39-macosx_11_0_arm64.whl.metadata (2.9 kB)\n",
      "Collecting rich>=11.1 (from flax>=0.7.2->tensorflowjs[wizard])\n",
      "  Using cached rich-13.6.0-py3-none-any.whl.metadata (18 kB)\n",
      "Requirement already satisfied: typing-extensions>=4.2 in ./.venv/lib/python3.9/site-packages (from flax>=0.7.2->tensorflowjs[wizard]) (4.8.0)\n",
      "Requirement already satisfied: PyYAML>=5.4.1 in ./.venv/lib/python3.9/site-packages (from flax>=0.7.2->tensorflowjs[wizard]) (6.0.1)\n",
      "Requirement already satisfied: zipp>=3.1.0 in ./.venv/lib/python3.9/site-packages (from importlib_resources>=5.9.0->tensorflowjs[wizard]) (3.17.0)\n",
      "Requirement already satisfied: ml-dtypes>=0.2.0 in ./.venv/lib/python3.9/site-packages (from jax>=0.4.13->tensorflowjs[wizard]) (0.2.0)\n",
      "Requirement already satisfied: opt-einsum in ./.venv/lib/python3.9/site-packages (from jax>=0.4.13->tensorflowjs[wizard]) (3.3.0)\n",
      "Requirement already satisfied: scipy>=1.9 in ./.venv/lib/python3.9/site-packages (from jax>=0.4.13->tensorflowjs[wizard]) (1.11.3)\n",
      "Requirement already satisfied: importlib-metadata>=4.6 in ./.venv/lib/python3.9/site-packages (from jax>=0.4.13->tensorflowjs[wizard]) (6.8.0)\n",
      "Requirement already satisfied: tensorflow-macos==2.14.0 in ./.venv/lib/python3.9/site-packages (from tensorflow<3,>=2.13.0->tensorflowjs[wizard]) (2.14.0)\n",
      "Requirement already satisfied: absl-py>=1.0.0 in ./.venv/lib/python3.9/site-packages (from tensorflow-macos==2.14.0->tensorflow<3,>=2.13.0->tensorflowjs[wizard]) (2.0.0)\n",
      "Requirement already satisfied: astunparse>=1.6.0 in ./.venv/lib/python3.9/site-packages (from tensorflow-macos==2.14.0->tensorflow<3,>=2.13.0->tensorflowjs[wizard]) (1.6.3)\n",
      "Requirement already satisfied: flatbuffers>=23.5.26 in ./.venv/lib/python3.9/site-packages (from tensorflow-macos==2.14.0->tensorflow<3,>=2.13.0->tensorflowjs[wizard]) (23.5.26)\n",
      "Requirement already satisfied: gast!=0.5.0,!=0.5.1,!=0.5.2,>=0.2.1 in ./.venv/lib/python3.9/site-packages (from tensorflow-macos==2.14.0->tensorflow<3,>=2.13.0->tensorflowjs[wizard]) (0.5.4)\n",
      "Requirement already satisfied: google-pasta>=0.1.1 in ./.venv/lib/python3.9/site-packages (from tensorflow-macos==2.14.0->tensorflow<3,>=2.13.0->tensorflowjs[wizard]) (0.2.0)\n",
      "Requirement already satisfied: h5py>=2.9.0 in ./.venv/lib/python3.9/site-packages (from tensorflow-macos==2.14.0->tensorflow<3,>=2.13.0->tensorflowjs[wizard]) (3.10.0)\n",
      "Requirement already satisfied: libclang>=13.0.0 in ./.venv/lib/python3.9/site-packages (from tensorflow-macos==2.14.0->tensorflow<3,>=2.13.0->tensorflowjs[wizard]) (16.0.6)\n",
      "Requirement already satisfied: protobuf!=4.21.0,!=4.21.1,!=4.21.2,!=4.21.3,!=4.21.4,!=4.21.5,<5.0.0dev,>=3.20.3 in ./.venv/lib/python3.9/site-packages (from tensorflow-macos==2.14.0->tensorflow<3,>=2.13.0->tensorflowjs[wizard]) (4.24.4)\n",
      "Requirement already satisfied: setuptools in ./.venv/lib/python3.9/site-packages (from tensorflow-macos==2.14.0->tensorflow<3,>=2.13.0->tensorflowjs[wizard]) (58.0.4)\n",
      "Requirement already satisfied: termcolor>=1.1.0 in ./.venv/lib/python3.9/site-packages (from tensorflow-macos==2.14.0->tensorflow<3,>=2.13.0->tensorflowjs[wizard]) (2.3.0)\n",
      "Requirement already satisfied: wrapt<1.15,>=1.11.0 in ./.venv/lib/python3.9/site-packages (from tensorflow-macos==2.14.0->tensorflow<3,>=2.13.0->tensorflowjs[wizard]) (1.14.1)\n",
      "Requirement already satisfied: tensorflow-io-gcs-filesystem>=0.23.1 in ./.venv/lib/python3.9/site-packages (from tensorflow-macos==2.14.0->tensorflow<3,>=2.13.0->tensorflowjs[wizard]) (0.34.0)\n",
      "Requirement already satisfied: grpcio<2.0,>=1.24.3 in ./.venv/lib/python3.9/site-packages (from tensorflow-macos==2.14.0->tensorflow<3,>=2.13.0->tensorflowjs[wizard]) (1.59.0)\n",
      "Requirement already satisfied: tensorboard<2.15,>=2.14 in ./.venv/lib/python3.9/site-packages (from tensorflow-macos==2.14.0->tensorflow<3,>=2.13.0->tensorflowjs[wizard]) (2.14.1)\n",
      "Requirement already satisfied: tensorflow-estimator<2.15,>=2.14.0 in ./.venv/lib/python3.9/site-packages (from tensorflow-macos==2.14.0->tensorflow<3,>=2.13.0->tensorflowjs[wizard]) (2.14.0)\n",
      "Requirement already satisfied: keras<2.15,>=2.14.0 in ./.venv/lib/python3.9/site-packages (from tensorflow-macos==2.14.0->tensorflow<3,>=2.13.0->tensorflowjs[wizard]) (2.14.0)\n",
      "Requirement already satisfied: pandas in ./.venv/lib/python3.9/site-packages (from tensorflow-decision-forests>=1.5.0->tensorflowjs[wizard]) (2.1.1)\n",
      "Requirement already satisfied: wheel in ./.venv/lib/python3.9/site-packages (from tensorflow-decision-forests>=1.5.0->tensorflowjs[wizard]) (0.41.2)\n",
      "Collecting wurlitzer (from tensorflow-decision-forests>=1.5.0->tensorflowjs[wizard])\n",
      "  Using cached wurlitzer-3.0.3-py3-none-any.whl (7.3 kB)\n",
      "Collecting markdown-it-py>=2.2.0 (from rich>=11.1->flax>=0.7.2->tensorflowjs[wizard])\n",
      "  Using cached markdown_it_py-3.0.0-py3-none-any.whl.metadata (6.9 kB)\n",
      "Collecting chex>=0.1.5 (from optax->flax>=0.7.2->tensorflowjs[wizard])\n",
      "  Using cached chex-0.1.84-py3-none-any.whl.metadata (17 kB)\n",
      "Collecting etils[epath,epy] (from orbax-checkpoint->flax>=0.7.2->tensorflowjs[wizard])\n",
      "  Using cached etils-1.5.2-py3-none-any.whl.metadata (6.3 kB)\n",
      "Requirement already satisfied: nest_asyncio in ./.venv/lib/python3.9/site-packages (from orbax-checkpoint->flax>=0.7.2->tensorflowjs[wizard]) (1.5.8)\n",
      "INFO: pip is looking at multiple versions of tensorstore to determine which version is compatible with other requirements. This could take a while.\n",
      "Collecting tensorstore (from flax>=0.7.2->tensorflowjs[wizard])\n",
      "  Using cached tensorstore-0.1.45-cp39-cp39-macosx_11_0_arm64.whl.metadata (2.9 kB)\n",
      "Requirement already satisfied: python-dateutil>=2.8.2 in ./.venv/lib/python3.9/site-packages (from pandas->tensorflow-decision-forests>=1.5.0->tensorflowjs[wizard]) (2.8.2)\n",
      "Requirement already satisfied: pytz>=2020.1 in ./.venv/lib/python3.9/site-packages (from pandas->tensorflow-decision-forests>=1.5.0->tensorflowjs[wizard]) (2023.3.post1)\n",
      "Requirement already satisfied: tzdata>=2022.1 in ./.venv/lib/python3.9/site-packages (from pandas->tensorflow-decision-forests>=1.5.0->tensorflowjs[wizard]) (2023.3)\n",
      "Collecting toolz>=0.9.0 (from chex>=0.1.5->optax->flax>=0.7.2->tensorflowjs[wizard])\n",
      "  Using cached toolz-0.12.0-py3-none-any.whl (55 kB)\n",
      "Collecting mdurl~=0.1 (from markdown-it-py>=2.2.0->rich>=11.1->flax>=0.7.2->tensorflowjs[wizard])\n",
      "  Using cached mdurl-0.1.2-py3-none-any.whl (10.0 kB)\n",
      "Requirement already satisfied: google-auth<3,>=1.6.3 in ./.venv/lib/python3.9/site-packages (from tensorboard<2.15,>=2.14->tensorflow-macos==2.14.0->tensorflow<3,>=2.13.0->tensorflowjs[wizard]) (2.23.3)\n",
      "Requirement already satisfied: google-auth-oauthlib<1.1,>=0.5 in ./.venv/lib/python3.9/site-packages (from tensorboard<2.15,>=2.14->tensorflow-macos==2.14.0->tensorflow<3,>=2.13.0->tensorflowjs[wizard]) (1.0.0)\n",
      "Requirement already satisfied: markdown>=2.6.8 in ./.venv/lib/python3.9/site-packages (from tensorboard<2.15,>=2.14->tensorflow-macos==2.14.0->tensorflow<3,>=2.13.0->tensorflowjs[wizard]) (3.5)\n",
      "Requirement already satisfied: requests<3,>=2.21.0 in ./.venv/lib/python3.9/site-packages (from tensorboard<2.15,>=2.14->tensorflow-macos==2.14.0->tensorflow<3,>=2.13.0->tensorflowjs[wizard]) (2.31.0)\n",
      "Requirement already satisfied: tensorboard-data-server<0.8.0,>=0.7.0 in ./.venv/lib/python3.9/site-packages (from tensorboard<2.15,>=2.14->tensorflow-macos==2.14.0->tensorflow<3,>=2.13.0->tensorflowjs[wizard]) (0.7.1)\n",
      "Requirement already satisfied: werkzeug>=1.0.1 in ./.venv/lib/python3.9/site-packages (from tensorboard<2.15,>=2.14->tensorflow-macos==2.14.0->tensorflow<3,>=2.13.0->tensorflowjs[wizard]) (3.0.0)\n",
      "Requirement already satisfied: fsspec in ./.venv/lib/python3.9/site-packages (from etils[epath,epy]->orbax-checkpoint->flax>=0.7.2->tensorflowjs[wizard]) (2023.10.0)\n",
      "Requirement already satisfied: cachetools<6.0,>=2.0.0 in ./.venv/lib/python3.9/site-packages (from google-auth<3,>=1.6.3->tensorboard<2.15,>=2.14->tensorflow-macos==2.14.0->tensorflow<3,>=2.13.0->tensorflowjs[wizard]) (5.3.1)\n",
      "Requirement already satisfied: pyasn1-modules>=0.2.1 in ./.venv/lib/python3.9/site-packages (from google-auth<3,>=1.6.3->tensorboard<2.15,>=2.14->tensorflow-macos==2.14.0->tensorflow<3,>=2.13.0->tensorflowjs[wizard]) (0.3.0)\n",
      "Requirement already satisfied: rsa<5,>=3.1.4 in ./.venv/lib/python3.9/site-packages (from google-auth<3,>=1.6.3->tensorboard<2.15,>=2.14->tensorflow-macos==2.14.0->tensorflow<3,>=2.13.0->tensorflowjs[wizard]) (4.9)\n",
      "Requirement already satisfied: requests-oauthlib>=0.7.0 in ./.venv/lib/python3.9/site-packages (from google-auth-oauthlib<1.1,>=0.5->tensorboard<2.15,>=2.14->tensorflow-macos==2.14.0->tensorflow<3,>=2.13.0->tensorflowjs[wizard]) (1.3.1)\n",
      "Requirement already satisfied: charset-normalizer<4,>=2 in ./.venv/lib/python3.9/site-packages (from requests<3,>=2.21.0->tensorboard<2.15,>=2.14->tensorflow-macos==2.14.0->tensorflow<3,>=2.13.0->tensorflowjs[wizard]) (3.3.0)\n",
      "Requirement already satisfied: idna<4,>=2.5 in ./.venv/lib/python3.9/site-packages (from requests<3,>=2.21.0->tensorboard<2.15,>=2.14->tensorflow-macos==2.14.0->tensorflow<3,>=2.13.0->tensorflowjs[wizard]) (3.4)\n",
      "Requirement already satisfied: urllib3<3,>=1.21.1 in ./.venv/lib/python3.9/site-packages (from requests<3,>=2.21.0->tensorboard<2.15,>=2.14->tensorflow-macos==2.14.0->tensorflow<3,>=2.13.0->tensorflowjs[wizard]) (2.0.7)\n",
      "Requirement already satisfied: certifi>=2017.4.17 in ./.venv/lib/python3.9/site-packages (from requests<3,>=2.21.0->tensorboard<2.15,>=2.14->tensorflow-macos==2.14.0->tensorflow<3,>=2.13.0->tensorflowjs[wizard]) (2023.7.22)\n",
      "Requirement already satisfied: MarkupSafe>=2.1.1 in ./.venv/lib/python3.9/site-packages (from werkzeug>=1.0.1->tensorboard<2.15,>=2.14->tensorflow-macos==2.14.0->tensorflow<3,>=2.13.0->tensorflowjs[wizard]) (2.1.3)\n",
      "Requirement already satisfied: pyasn1<0.6.0,>=0.4.6 in ./.venv/lib/python3.9/site-packages (from pyasn1-modules>=0.2.1->google-auth<3,>=1.6.3->tensorboard<2.15,>=2.14->tensorflow-macos==2.14.0->tensorflow<3,>=2.13.0->tensorflowjs[wizard]) (0.5.0)\n",
      "Requirement already satisfied: oauthlib>=3.0.0 in ./.venv/lib/python3.9/site-packages (from requests-oauthlib>=0.7.0->google-auth-oauthlib<1.1,>=0.5->tensorboard<2.15,>=2.14->tensorflow-macos==2.14.0->tensorflow<3,>=2.13.0->tensorflowjs[wizard]) (3.2.2)\n",
      "Using cached flax-0.7.4-py3-none-any.whl (233 kB)\n",
      "Using cached importlib_resources-6.1.0-py3-none-any.whl (33 kB)\n",
      "Using cached jax-0.4.19-py3-none-any.whl (1.7 MB)\n",
      "Using cached jaxlib-0.4.19-cp39-cp39-macosx_11_0_arm64.whl (64.5 MB)\n",
      "Using cached tensorflow_decision_forests-1.6.0-cp39-cp39-macosx_12_0_arm64.whl (11.4 MB)\n",
      "Using cached tensorflow_hub-0.15.0-py2.py3-none-any.whl (85 kB)\n",
      "Using cached tensorflowjs-4.12.0-py3-none-any.whl (89 kB)\n",
      "Using cached rich-13.6.0-py3-none-any.whl (239 kB)\n",
      "Using cached msgpack-1.0.7-cp39-cp39-macosx_11_0_arm64.whl (232 kB)\n",
      "Using cached optax-0.1.7-py3-none-any.whl (154 kB)\n",
      "Using cached orbax_checkpoint-0.4.1-py3-none-any.whl (113 kB)\n",
      "Using cached tensorstore-0.1.45-cp39-cp39-macosx_11_0_arm64.whl (12.4 MB)\n",
      "Using cached chex-0.1.84-py3-none-any.whl (94 kB)\n",
      "Using cached markdown_it_py-3.0.0-py3-none-any.whl (87 kB)\n",
      "Using cached etils-1.5.2-py3-none-any.whl (140 kB)\n",
      "Installing collected packages: wurlitzer, toolz, tensorstore, tensorflow-hub, prompt-toolkit, msgpack, mdurl, importlib_resources, etils, PyInquirer, markdown-it-py, jaxlib, jax, rich, chex, orbax-checkpoint, optax, flax, tensorflow-decision-forests, tensorflowjs\n",
      "  Attempting uninstall: prompt-toolkit\n",
      "    Found existing installation: prompt-toolkit 3.0.39\n",
      "    Uninstalling prompt-toolkit-3.0.39:\n",
      "      Successfully uninstalled prompt-toolkit-3.0.39\n",
      "\u001b[31mERROR: pip's dependency resolver does not currently take into account all the packages that are installed. This behaviour is the source of the following dependency conflicts.\n",
      "ipython 8.16.1 requires prompt-toolkit!=3.0.37,<3.1.0,>=3.0.30, but you have prompt-toolkit 1.0.14 which is incompatible.\u001b[0m\u001b[31m\n",
      "\u001b[0mSuccessfully installed PyInquirer-1.0.3 chex-0.1.84 etils-1.5.2 flax-0.7.4 importlib_resources-6.1.0 jax-0.4.19 jaxlib-0.4.19 markdown-it-py-3.0.0 mdurl-0.1.2 msgpack-1.0.7 optax-0.1.7 orbax-checkpoint-0.4.1 prompt-toolkit-1.0.14 rich-13.6.0 tensorflow-decision-forests-1.6.0 tensorflow-hub-0.15.0 tensorflowjs-4.12.0 tensorstore-0.1.45 toolz-0.12.0 wurlitzer-3.0.3\n",
      "Note: you may need to restart the kernel to use updated packages.\n"
     ]
    }
   ],
   "source": [
    "%pip install scikit-learn\n",
    "%pip install scipy\n",
    "%pip install pandas\n",
    "%pip install transformers\n",
    "%pip install tensorflow\n",
    "%pip install torch\n",
    "%pip install tqdm\n",
    "%pip install tensorflowjs[wizard]"
   ]
  },
  {
   "cell_type": "code",
   "execution_count": 2,
   "metadata": {},
   "outputs": [
    {
     "name": "stderr",
     "output_type": "stream",
     "text": [
      "/Users/danielgoldelman/Desktop/tfjs_conv_issue/.venv/lib/python3.9/site-packages/urllib3/__init__.py:34: NotOpenSSLWarning: urllib3 v2.0 only supports OpenSSL 1.1.1+, currently the 'ssl' module is compiled with 'LibreSSL 2.8.3'. See: https://github.com/urllib3/urllib3/issues/3020\n",
      "  warnings.warn(\n",
      "/Users/danielgoldelman/Desktop/tfjs_conv_issue/.venv/lib/python3.9/site-packages/tqdm/auto.py:21: TqdmWarning: IProgress not found. Please update jupyter and ipywidgets. See https://ipywidgets.readthedocs.io/en/stable/user_install.html\n",
      "  from .autonotebook import tqdm as notebook_tqdm\n",
      "Some weights of the PyTorch model were not used when initializing the TF 2.0 model TFBertModel: ['bert.embeddings.position_ids', 'classifier.bias', 'classifier.weight']\n",
      "- This IS expected if you are initializing TFBertModel from a PyTorch model trained on another task or with another architecture (e.g. initializing a TFBertForSequenceClassification model from a BertForPreTraining model).\n",
      "- This IS NOT expected if you are initializing TFBertModel from a PyTorch model that you expect to be exactly identical (e.g. initializing a TFBertForSequenceClassification model from a BertForSequenceClassification model).\n",
      "All the weights of TFBertModel were initialized from the PyTorch model.\n",
      "If your task is similar to the task the model of the checkpoint was trained on, you can already use TFBertModel for predictions without further training.\n"
     ]
    },
    {
     "name": "stdout",
     "output_type": "stream",
     "text": [
      "INFO:tensorflow:Assets written to: multitaskModelForJS_graphdef/assets\n"
     ]
    },
    {
     "name": "stderr",
     "output_type": "stream",
     "text": [
      "INFO:tensorflow:Assets written to: multitaskModelForJS_graphdef/assets\n"
     ]
    },
    {
     "name": "stdout",
     "output_type": "stream",
     "text": [
      "The given SavedModel SignatureDef contains the following input(s):\n",
      "  inputs['attention_mask'] tensor_info:\n",
      "      dtype: DT_INT32\n",
      "      shape: (-1, 384)\n",
      "      name: serving_default_attention_mask:0\n",
      "  inputs['input_ids'] tensor_info:\n",
      "      dtype: DT_INT32\n",
      "      shape: (-1, 384)\n",
      "      name: serving_default_input_ids:0\n",
      "The given SavedModel SignatureDef contains the following output(s):\n",
      "  outputs['last_hidden_state'] tensor_info:\n",
      "      dtype: DT_FLOAT\n",
      "      shape: (-1, 384, 312)\n",
      "      name: StatefulPartitionedCall:0\n",
      "  outputs['pooler_output'] tensor_info:\n",
      "      dtype: DT_FLOAT\n",
      "      shape: (-1, 312)\n",
      "      name: StatefulPartitionedCall:1\n",
      "Method name is: tensorflow/serving/predict\n",
      "/Users/danielgoldelman/Desktop/tfjs_conv_issue/.venv/lib/python3.9/site-packages/urllib3/__init__.py:34: NotOpenSSLWarning: urllib3 v2.0 only supports OpenSSL 1.1.1+, currently the 'ssl' module is compiled with 'LibreSSL 2.8.3'. See: https://github.com/urllib3/urllib3/issues/3020\n",
      "  warnings.warn(\n"
     ]
    }
   ],
   "source": [
    "import tensorflow as tf\n",
    "from transformers import TFAutoModel\n",
    "\n",
    "MODEL_NAME = './MultitaskModel'\n",
    "model = TFAutoModel.from_pretrained(MODEL_NAME, from_pt = True)\n",
    "\n",
    "callable = tf.function(model.call)\n",
    "concrete_function = callable.get_concrete_function([tf.TensorSpec([None, 384], tf.int32, name=\"input_ids\"),tf.TensorSpec([None, 384], tf.int32, name=\"attention_mask\")])\n",
    "\n",
    "tf.saved_model.save(model, 'multitaskModelForJS_graphdef', signatures=concrete_function)\n",
    "!saved_model_cli show --dir multitaskModelForJS_graphdef --tag_set serve --signature_def serving_default\n",
    "\n",
    "! tensorflowjs_converter \\\n",
    "    --input_format=tf_saved_model \\\n",
    "    --output_format=tfjs_graph_model \\\n",
    "    --signature_name=serving_default \\\n",
    "    --saved_model_tags=serve \\\n",
    "    ./multitaskModelForJS_graphdef/ \\\n",
    "    ./multitaskModelForJSWeb_graphdef/"
   ]
  },
  {
   "cell_type": "code",
   "execution_count": 6,
   "metadata": {},
   "outputs": [],
   "source": [
    "import json\n",
    "import sklearn\n",
    "from sklearn import metrics\n",
    "import scipy as sp\n",
    "import pandas as pd"
   ]
  },
  {
   "cell_type": "code",
   "execution_count": 9,
   "metadata": {},
   "outputs": [],
   "source": [
    "ppAllTestSet = pd.read_json(path_or_buf='ppAllTestSet.jsonl', lines=True)\n",
    "ppAllTestSet = ppAllTestSet.set_index('id')\n",
    "modelTestResults_B = pd.read_json(path_or_buf='modelTestResults_B.json')\n",
    "modelTestResults_B = modelTestResults_B.set_index('id')\n",
    "modelTestResults_B['result'] = modelTestResults_B['result'].apply(lambda x: 1 if x else 0)"
   ]
  },
  {
   "cell_type": "code",
   "execution_count": 11,
   "metadata": {},
   "outputs": [
    {
     "name": "stdout",
     "output_type": "stream",
     "text": [
      "              precision    recall  f1-score   support\n",
      "\n",
      "       False       0.88      0.94      0.91       290\n",
      "        True       0.93      0.85      0.89       243\n",
      "\n",
      "    accuracy                           0.90       533\n",
      "   macro avg       0.91      0.90      0.90       533\n",
      "weighted avg       0.90      0.90      0.90       533\n",
      "\n"
     ]
    }
   ],
   "source": [
    "print(metrics.classification_report(y_true=ppAllTestSet['label'],y_pred=modelTestResults_B['result'],target_names=['False','True']))"
   ]
  },
  {
   "cell_type": "code",
   "execution_count": 12,
   "metadata": {},
   "outputs": [
    {
     "name": "stdout",
     "output_type": "stream",
     "text": [
      "---Classification Report for city---\n",
      "              precision    recall  f1-score   support\n",
      "\n",
      "       False       0.85      0.95      0.90        63\n",
      "        True       0.91      0.72      0.81        40\n",
      "\n",
      "    accuracy                           0.86       103\n",
      "   macro avg       0.88      0.84      0.85       103\n",
      "weighted avg       0.87      0.86      0.86       103\n",
      "\n",
      "---Classification Report for lat---\n",
      "              precision    recall  f1-score   support\n",
      "\n",
      "       False       0.76      0.93      0.83        40\n",
      "        True       0.95      0.82      0.88        67\n",
      "\n",
      "    accuracy                           0.86       107\n",
      "   macro avg       0.85      0.87      0.86       107\n",
      "weighted avg       0.88      0.86      0.86       107\n",
      "\n",
      "---Classification Report for lng---\n",
      "              precision    recall  f1-score   support\n",
      "\n",
      "       False       0.80      0.93      0.86        44\n",
      "        True       0.94      0.84      0.89        61\n",
      "\n",
      "    accuracy                           0.88       105\n",
      "   macro avg       0.87      0.88      0.88       105\n",
      "weighted avg       0.89      0.88      0.88       105\n",
      "\n",
      "---Classification Report for region---\n",
      "              precision    recall  f1-score   support\n",
      "\n",
      "       False       0.98      0.89      0.94        66\n",
      "        True       0.85      0.98      0.91        42\n",
      "\n",
      "    accuracy                           0.93       108\n",
      "   macro avg       0.92      0.94      0.92       108\n",
      "weighted avg       0.93      0.93      0.93       108\n",
      "\n",
      "---Classification Report for zip---\n",
      "              precision    recall  f1-score   support\n",
      "\n",
      "       False       0.97      1.00      0.99        77\n",
      "        True       1.00      0.94      0.97        33\n",
      "\n",
      "    accuracy                           0.98       110\n",
      "   macro avg       0.99      0.97      0.98       110\n",
      "weighted avg       0.98      0.98      0.98       110\n",
      "\n"
     ]
    }
   ],
   "source": [
    "for datatype in ['city', 'lat', 'lng', 'region', 'zip']:\n",
    "  indexes = ppAllTestSet['data'].apply(lambda x: x.startswith(datatype))\n",
    "  indexes = indexes[indexes].index\n",
    "  pred = modelTestResults_B.filter(indexes, axis=0)['result']\n",
    "  exp = ppAllTestSet.filter(indexes, axis=0)['label']\n",
    "  print(f\"---Classification Report for {datatype}---\")\n",
    "  print(metrics.classification_report(y_true=list(exp),y_pred=list(pred),target_names=['False','True']))"
   ]
  },
  {
   "cell_type": "code",
   "execution_count": 44,
   "metadata": {},
   "outputs": [],
   "source": [
    "from transformers import pipeline, TFAutoModelForSequenceClassification, AutoTokenizer\n",
    "import tensorflow\n",
    "from tqdm import tqdm"
   ]
  },
  {
   "cell_type": "code",
   "execution_count": 37,
   "metadata": {},
   "outputs": [
    {
     "name": "stderr",
     "output_type": "stream",
     "text": [
      "Some weights of the PyTorch model were not used when initializing the TF 2.0 model TFBertForSequenceClassification: ['bert.embeddings.position_ids']\n",
      "- This IS expected if you are initializing TFBertForSequenceClassification from a PyTorch model trained on another task or with another architecture (e.g. initializing a TFBertForSequenceClassification model from a BertForPreTraining model).\n",
      "- This IS NOT expected if you are initializing TFBertForSequenceClassification from a PyTorch model that you expect to be exactly identical (e.g. initializing a TFBertForSequenceClassification model from a BertForSequenceClassification model).\n",
      "All the weights of TFBertForSequenceClassification were initialized from the PyTorch model.\n",
      "If your task is similar to the task the model of the checkpoint was trained on, you can already use TFBertForSequenceClassification for predictions without further training.\n"
     ]
    }
   ],
   "source": [
    "location = \"./MultitaskModel\"\n",
    "model = TFAutoModelForSequenceClassification.from_pretrained(location, from_pt=True)\n",
    "tokenizer = AutoTokenizer.from_pretrained(location)\n",
    "multitaskModel = pipeline('text-classification',model=model, tokenizer=tokenizer)"
   ]
  },
  {
   "cell_type": "code",
   "execution_count": 38,
   "metadata": {},
   "outputs": [
    {
     "data": {
      "text/plain": [
       "[{'label': 'LABEL_0', 'score': 0.9998854398727417}]"
      ]
     },
     "execution_count": 38,
     "metadata": {},
     "output_type": "execute_result"
    }
   ],
   "source": [
    "multitaskModel(\"a\")"
   ]
  },
  {
   "cell_type": "code",
   "execution_count": 39,
   "metadata": {},
   "outputs": [
    {
     "name": "stdout",
     "output_type": "stream",
     "text": [
      "[{'label': 'LABEL_0', 'score': 0.9999079704284668}]\n"
     ]
    }
   ],
   "source": [
    "print(multitaskModel(ppAllTestSet.iloc[0,:][\"data\"]))"
   ]
  },
  {
   "cell_type": "code",
   "execution_count": 45,
   "metadata": {},
   "outputs": [
    {
     "name": "stderr",
     "output_type": "stream",
     "text": [
      "100%|██████████| 533/533 [00:14<00:00, 36.28it/s]"
     ]
    },
    {
     "name": "stdout",
     "output_type": "stream",
     "text": [
      "---Classification Report for All---\n",
      "              precision    recall  f1-score   support\n",
      "\n",
      "       False       0.97      0.92      0.94       290\n",
      "        True       0.91      0.96      0.94       243\n",
      "\n",
      "    accuracy                           0.94       533\n",
      "   macro avg       0.94      0.94      0.94       533\n",
      "weighted avg       0.94      0.94      0.94       533\n",
      "\n"
     ]
    },
    {
     "name": "stderr",
     "output_type": "stream",
     "text": [
      "\n"
     ]
    }
   ],
   "source": [
    "t_All = []\n",
    "multi_All = []\n",
    "for i in tqdm(range(533)):\n",
    "  t_All.append(ppAllTestSet.iloc[i,:]['label'])\n",
    "  res = multitaskModel(ppAllTestSet.iloc[i,:][\"data\"])\n",
    "  label = res[0]['label']\n",
    "  if label == 'LABEL_0':\n",
    "    multi_All.append(0)\n",
    "  else:\n",
    "    multi_All.append(1)\n",
    "  \n",
    "print(f\"---Classification Report for All---\")\n",
    "print(metrics.classification_report(y_true=t_All,y_pred=multi_All,target_names=['False','True']))"
   ]
  },
  {
   "cell_type": "code",
   "execution_count": 50,
   "metadata": {},
   "outputs": [
    {
     "name": "stdout",
     "output_type": "stream",
     "text": [
      "---Classification Report for city---\n",
      "              precision    recall  f1-score   support\n",
      "\n",
      "       False       0.92      0.87      0.89        63\n",
      "        True       0.81      0.88      0.84        40\n",
      "\n",
      "    accuracy                           0.87       103\n",
      "   macro avg       0.87      0.87      0.87       103\n",
      "weighted avg       0.88      0.87      0.87       103\n",
      "\n",
      "---Classification Report for lat---\n",
      "              precision    recall  f1-score   support\n",
      "\n",
      "       False       0.94      0.85      0.89        40\n",
      "        True       0.92      0.97      0.94        67\n",
      "\n",
      "    accuracy                           0.93       107\n",
      "   macro avg       0.93      0.91      0.92       107\n",
      "weighted avg       0.93      0.93      0.92       107\n",
      "\n",
      "---Classification Report for lng---\n",
      "              precision    recall  f1-score   support\n",
      "\n",
      "       False       0.95      0.80      0.86        44\n",
      "        True       0.87      0.97      0.91        61\n",
      "\n",
      "    accuracy                           0.90       105\n",
      "   macro avg       0.91      0.88      0.89       105\n",
      "weighted avg       0.90      0.90      0.89       105\n",
      "\n",
      "---Classification Report for region---\n",
      "              precision    recall  f1-score   support\n",
      "\n",
      "       False       1.00      1.00      1.00        66\n",
      "        True       1.00      1.00      1.00        42\n",
      "\n",
      "    accuracy                           1.00       108\n",
      "   macro avg       1.00      1.00      1.00       108\n",
      "weighted avg       1.00      1.00      1.00       108\n",
      "\n",
      "---Classification Report for zip---\n",
      "              precision    recall  f1-score   support\n",
      "\n",
      "       False       1.00      1.00      1.00        77\n",
      "        True       1.00      1.00      1.00        33\n",
      "\n",
      "    accuracy                           1.00       110\n",
      "   macro avg       1.00      1.00      1.00       110\n",
      "weighted avg       1.00      1.00      1.00       110\n",
      "\n"
     ]
    }
   ],
   "source": [
    "for datatype in ['city', 'lat', 'lng', 'region', 'zip']:\n",
    "  t = []\n",
    "  multi = []\n",
    "  for i in range(533):\n",
    "    if ppAllTestSet.iloc[i,:][\"data\"].startswith(datatype):\n",
    "      t.append(ppAllTestSet.iloc[i,:]['label'])\n",
    "      res = multitaskModel(ppAllTestSet.iloc[i,:][\"data\"])\n",
    "      label = res[0]['label']\n",
    "      if label == 'LABEL_0':\n",
    "        multi.append(0)\n",
    "      else:\n",
    "        multi.append(1)\n",
    "    \n",
    "  print(f\"---Classification Report for {datatype}---\")\n",
    "  print(metrics.classification_report(y_true=t,y_pred=multi,target_names=['False','True']))"
   ]
  }
 ],
 "metadata": {
  "kernelspec": {
   "display_name": "Python 3",
   "language": "python",
   "name": "python3"
  },
  "language_info": {
   "codemirror_mode": {
    "name": "ipython",
    "version": 3
   },
   "file_extension": ".py",
   "mimetype": "text/x-python",
   "name": "python",
   "nbconvert_exporter": "python",
   "pygments_lexer": "ipython3",
   "version": "3.9.6"
  },
  "orig_nbformat": 4
 },
 "nbformat": 4,
 "nbformat_minor": 2
}
